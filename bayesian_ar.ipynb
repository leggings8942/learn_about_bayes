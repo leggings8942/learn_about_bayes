{
 "cells": [
  {
   "cell_type": "code",
   "execution_count": 1,
   "id": "fc47082c",
   "metadata": {},
   "outputs": [],
   "source": [
    "%load_ext autoreload\n",
    "%autoreload 2\n",
    "\n",
    "import pandas as pd\n",
    "\n",
    "\n",
    "from Bayesian_Auto_Regressive import Bayesian_Auto_Regressive\n"
   ]
  },
  {
   "cell_type": "code",
   "execution_count": 2,
   "id": "6573c2c3",
   "metadata": {},
   "outputs": [
    {
     "data": {
      "application/vnd.microsoft.datawrangler.viewer.v0+json": {
       "columns": [
        {
         "name": "index",
         "rawType": "int64",
         "type": "integer"
        },
        {
         "name": "date",
         "rawType": "object",
         "type": "string"
        },
        {
         "name": "daily_count",
         "rawType": "int64",
         "type": "integer"
        }
       ],
       "conversionMethod": "pd.DataFrame",
       "ref": "7e691e7f-4c4c-4ad5-925e-75169e45f746",
       "rows": [
        [
         "0",
         "2024-08-05",
         "2009"
        ],
        [
         "1",
         "2024-08-06",
         "386"
        ],
        [
         "2",
         "2024-08-07",
         "84"
        ],
        [
         "3",
         "2024-08-08",
         "171"
        ],
        [
         "4",
         "2024-08-09",
         "731"
        ],
        [
         "5",
         "2024-08-12",
         "199"
        ],
        [
         "6",
         "2024-08-13",
         "451"
        ],
        [
         "7",
         "2024-08-14",
         "464"
        ],
        [
         "8",
         "2024-08-15",
         "235"
        ],
        [
         "9",
         "2024-08-16",
         "379"
        ],
        [
         "10",
         "2024-08-17",
         "490"
        ],
        [
         "11",
         "2024-08-18",
         "215"
        ],
        [
         "12",
         "2024-08-19",
         "712"
        ],
        [
         "13",
         "2024-08-20",
         "1158"
        ],
        [
         "14",
         "2024-08-21",
         "651"
        ],
        [
         "15",
         "2024-08-22",
         "582"
        ],
        [
         "16",
         "2024-08-23",
         "732"
        ],
        [
         "17",
         "2024-08-24",
         "62"
        ],
        [
         "18",
         "2024-08-26",
         "961"
        ],
        [
         "19",
         "2024-08-27",
         "1168"
        ],
        [
         "20",
         "2024-08-28",
         "1068"
        ],
        [
         "21",
         "2024-08-29",
         "826"
        ],
        [
         "22",
         "2024-08-30",
         "1066"
        ],
        [
         "23",
         "2024-08-31",
         "874"
        ],
        [
         "24",
         "2024-09-01",
         "560"
        ],
        [
         "25",
         "2024-09-02",
         "410"
        ],
        [
         "26",
         "2024-09-03",
         "524"
        ],
        [
         "27",
         "2024-09-04",
         "615"
        ],
        [
         "28",
         "2024-09-05",
         "557"
        ],
        [
         "29",
         "2024-09-06",
         "508"
        ],
        [
         "30",
         "2024-09-07",
         "649"
        ],
        [
         "31",
         "2024-09-08",
         "267"
        ],
        [
         "32",
         "2024-09-09",
         "387"
        ],
        [
         "33",
         "2024-09-10",
         "375"
        ],
        [
         "34",
         "2024-09-11",
         "318"
        ],
        [
         "35",
         "2024-09-12",
         "321"
        ],
        [
         "36",
         "2024-09-13",
         "277"
        ],
        [
         "37",
         "2024-09-14",
         "372"
        ],
        [
         "38",
         "2024-09-15",
         "363"
        ],
        [
         "39",
         "2024-09-16",
         "280"
        ],
        [
         "40",
         "2024-09-17",
         "296"
        ],
        [
         "41",
         "2024-09-18",
         "347"
        ],
        [
         "42",
         "2024-09-19",
         "275"
        ],
        [
         "43",
         "2024-09-20",
         "329"
        ],
        [
         "44",
         "2024-09-21",
         "396"
        ],
        [
         "45",
         "2024-09-22",
         "231"
        ],
        [
         "46",
         "2024-09-23",
         "248"
        ],
        [
         "47",
         "2024-09-24",
         "142"
        ],
        [
         "48",
         "2024-09-25",
         "154"
        ],
        [
         "49",
         "2024-09-26",
         "388"
        ]
       ],
       "shape": {
        "columns": 2,
        "rows": 198
       }
      },
      "text/html": [
       "<div>\n",
       "<style scoped>\n",
       "    .dataframe tbody tr th:only-of-type {\n",
       "        vertical-align: middle;\n",
       "    }\n",
       "\n",
       "    .dataframe tbody tr th {\n",
       "        vertical-align: top;\n",
       "    }\n",
       "\n",
       "    .dataframe thead th {\n",
       "        text-align: right;\n",
       "    }\n",
       "</style>\n",
       "<table border=\"1\" class=\"dataframe\">\n",
       "  <thead>\n",
       "    <tr style=\"text-align: right;\">\n",
       "      <th></th>\n",
       "      <th>date</th>\n",
       "      <th>daily_count</th>\n",
       "    </tr>\n",
       "  </thead>\n",
       "  <tbody>\n",
       "    <tr>\n",
       "      <th>0</th>\n",
       "      <td>2024-08-05</td>\n",
       "      <td>2009</td>\n",
       "    </tr>\n",
       "    <tr>\n",
       "      <th>1</th>\n",
       "      <td>2024-08-06</td>\n",
       "      <td>386</td>\n",
       "    </tr>\n",
       "    <tr>\n",
       "      <th>2</th>\n",
       "      <td>2024-08-07</td>\n",
       "      <td>84</td>\n",
       "    </tr>\n",
       "    <tr>\n",
       "      <th>3</th>\n",
       "      <td>2024-08-08</td>\n",
       "      <td>171</td>\n",
       "    </tr>\n",
       "    <tr>\n",
       "      <th>4</th>\n",
       "      <td>2024-08-09</td>\n",
       "      <td>731</td>\n",
       "    </tr>\n",
       "    <tr>\n",
       "      <th>...</th>\n",
       "      <td>...</td>\n",
       "      <td>...</td>\n",
       "    </tr>\n",
       "    <tr>\n",
       "      <th>193</th>\n",
       "      <td>2025-02-18</td>\n",
       "      <td>1023</td>\n",
       "    </tr>\n",
       "    <tr>\n",
       "      <th>194</th>\n",
       "      <td>2025-02-19</td>\n",
       "      <td>915</td>\n",
       "    </tr>\n",
       "    <tr>\n",
       "      <th>195</th>\n",
       "      <td>2025-02-21</td>\n",
       "      <td>1284</td>\n",
       "    </tr>\n",
       "    <tr>\n",
       "      <th>196</th>\n",
       "      <td>2025-02-22</td>\n",
       "      <td>1146</td>\n",
       "    </tr>\n",
       "    <tr>\n",
       "      <th>197</th>\n",
       "      <td>2025-02-23</td>\n",
       "      <td>896</td>\n",
       "    </tr>\n",
       "  </tbody>\n",
       "</table>\n",
       "<p>198 rows × 2 columns</p>\n",
       "</div>"
      ],
      "text/plain": [
       "           date  daily_count\n",
       "0    2024-08-05         2009\n",
       "1    2024-08-06          386\n",
       "2    2024-08-07           84\n",
       "3    2024-08-08          171\n",
       "4    2024-08-09          731\n",
       "..          ...          ...\n",
       "193  2025-02-18         1023\n",
       "194  2025-02-19          915\n",
       "195  2025-02-21         1284\n",
       "196  2025-02-22         1146\n",
       "197  2025-02-23          896\n",
       "\n",
       "[198 rows x 2 columns]"
      ]
     },
     "execution_count": 2,
     "metadata": {},
     "output_type": "execute_result"
    }
   ],
   "source": [
    "demo_data = pd.read_parquet('./csv_data/メゾンコーセー/demo_data.snappy.parquet')\n",
    "demo_data = demo_data[demo_data['place_caption'] == 'メゾンコーセーハラカド店']\n",
    "demo_data = demo_data[['date', 'daily_count']]\n",
    "demo_data = demo_data.sort_values('date', ascending=True, ignore_index=True)\n",
    "\n",
    "demo_data"
   ]
  },
  {
   "cell_type": "code",
   "execution_count": 4,
   "id": "c82cc1c8",
   "metadata": {},
   "outputs": [
    {
     "ename": "ValueError",
     "evalue": "non-broadcastable output operand with shape (10,) doesn't match the broadcast shape (10,10)",
     "output_type": "error",
     "traceback": [
      "\u001b[0;31m---------------------------------------------------------------------------\u001b[0m",
      "\u001b[0;31mValueError\u001b[0m                                Traceback (most recent call last)",
      "Cell \u001b[0;32mIn[4], line 2\u001b[0m\n\u001b[1;32m      1\u001b[0m model \u001b[38;5;241m=\u001b[39m Bayesian_Auto_Regressive(demo_data[\u001b[38;5;124m'\u001b[39m\u001b[38;5;124mdaily_count\u001b[39m\u001b[38;5;124m'\u001b[39m]\u001b[38;5;241m.\u001b[39mto_numpy())\n\u001b[0;32m----> 2\u001b[0m \u001b[43mmodel\u001b[49m\u001b[38;5;241;43m.\u001b[39;49m\u001b[43mfit\u001b[49m\u001b[43m(\u001b[49m\u001b[43mlags\u001b[49m\u001b[38;5;241;43m=\u001b[39;49m\u001b[38;5;241;43m10\u001b[39;49m\u001b[43m,\u001b[49m\u001b[43m \u001b[49m\u001b[43mvisible_flg\u001b[49m\u001b[38;5;241;43m=\u001b[39;49m\u001b[38;5;28;43;01mTrue\u001b[39;49;00m\u001b[43m)\u001b[49m\n",
      "File \u001b[0;32m~/work/github/learn_about_bayes/Bayesian_Auto_Regressive.py:281\u001b[0m, in \u001b[0;36mBayesian_Auto_Regressive.fit\u001b[0;34m(self, lags, visible_flg)\u001b[0m\n\u001b[1;32m    279\u001b[0m A_lθ         \u001b[38;5;241m=\u001b[39m avg_Σ \u001b[38;5;241m*\u001b[39m (x_l \u001b[38;5;241m*\u001b[39m q_A[:, \u001b[38;5;241m1\u001b[39m]\u001b[38;5;241m.\u001b[39mreshape((\u001b[38;5;28mself\u001b[39m\u001b[38;5;241m.\u001b[39mlags, \u001b[38;5;241m1\u001b[39m))) \u001b[38;5;241m*\u001b[39m (x_dl \u001b[38;5;241m*\u001b[39m avg_A)\n\u001b[1;32m    280\u001b[0m A_lk         \u001b[38;5;241m=\u001b[39m avg_Σ \u001b[38;5;241m*\u001b[39m (x_l \u001b[38;5;241m*\u001b[39m q_A[:, \u001b[38;5;241m0\u001b[39m]\u001b[38;5;241m.\u001b[39mreshape((\u001b[38;5;28mself\u001b[39m\u001b[38;5;241m.\u001b[39mlags, \u001b[38;5;241m1\u001b[39m))) \u001b[38;5;241m*\u001b[39m (x_dl \u001b[38;5;241m*\u001b[39m avg_A)\n\u001b[0;32m--> 281\u001b[0m \u001b[43mA_new\u001b[49m\u001b[43m[\u001b[49m\u001b[43m:\u001b[49m\u001b[43m,\u001b[49m\u001b[43m \u001b[49m\u001b[38;5;241;43m0\u001b[39;49m\u001b[43m]\u001b[49m\u001b[43m \u001b[49m\u001b[38;5;241;43m-\u001b[39;49m\u001b[38;5;241;43m=\u001b[39;49m\u001b[43m \u001b[49m\u001b[43mnp\u001b[49m\u001b[38;5;241;43m.\u001b[39;49m\u001b[43msum\u001b[49m\u001b[43m(\u001b[49m\u001b[43mA_lθ\u001b[49m\u001b[43m,\u001b[49m\u001b[43m \u001b[49m\u001b[43maxis\u001b[49m\u001b[38;5;241;43m=\u001b[39;49m\u001b[38;5;241;43m1\u001b[39;49m\u001b[43m)\u001b[49m\u001b[43m \u001b[49m\u001b[38;5;241;43m-\u001b[39;49m\u001b[43m \u001b[49m\u001b[43mA_lθ\u001b[49m\n\u001b[1;32m    282\u001b[0m A_new[:, \u001b[38;5;241m1\u001b[39m] \u001b[38;5;241m-\u001b[39m\u001b[38;5;241m=\u001b[39m np\u001b[38;5;241m.\u001b[39msum(A_lk, axis\u001b[38;5;241m=\u001b[39m\u001b[38;5;241m1\u001b[39m) \u001b[38;5;241m-\u001b[39m A_lk\n\u001b[1;32m    284\u001b[0m A_new[:, \u001b[38;5;241m0\u001b[39m] \u001b[38;5;241m+\u001b[39m\u001b[38;5;241m=\u001b[39m  \u001b[38;5;28mself\u001b[39m\u001b[38;5;241m.\u001b[39mk \u001b[38;5;241m/\u001b[39m q_A[:, \u001b[38;5;241m0\u001b[39m]\n",
      "\u001b[0;31mValueError\u001b[0m: non-broadcastable output operand with shape (10,) doesn't match the broadcast shape (10,10)"
     ]
    }
   ],
   "source": [
    "model = Bayesian_Auto_Regressive(demo_data['daily_count'].to_numpy())\n",
    "model.fit(lags=10, visible_flg=True)"
   ]
  },
  {
   "cell_type": "code",
   "execution_count": null,
   "id": "d6aaad2a",
   "metadata": {},
   "outputs": [],
   "source": []
  },
  {
   "cell_type": "code",
   "execution_count": null,
   "id": "daa15398",
   "metadata": {},
   "outputs": [],
   "source": []
  },
  {
   "cell_type": "code",
   "execution_count": null,
   "id": "6b0770e3",
   "metadata": {},
   "outputs": [],
   "source": []
  }
 ],
 "metadata": {
  "kernelspec": {
   "display_name": "Python 3",
   "language": "python",
   "name": "python3"
  },
  "language_info": {
   "codemirror_mode": {
    "name": "ipython",
    "version": 3
   },
   "file_extension": ".py",
   "mimetype": "text/x-python",
   "name": "python",
   "nbconvert_exporter": "python",
   "pygments_lexer": "ipython3",
   "version": "3.13.3"
  }
 },
 "nbformat": 4,
 "nbformat_minor": 5
}
